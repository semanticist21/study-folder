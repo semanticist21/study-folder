{
 "cells": [
  {
   "cell_type": "code",
   "execution_count": 18,
   "metadata": {},
   "outputs": [
    {
     "name": "stdout",
     "output_type": "stream",
     "text": [
      "0.5706921210926263\n",
      "0.5826083517811866\n"
     ]
    }
   ],
   "source": [
    "import pandas as pd\n",
    "import numpy as np\n",
    "\n",
    "data = pd.read_csv('data2/house_raw.csv')\n",
    "new_data = data[(data['bedrooms'] < 0.5) & (data['households'] < 7) & (data['rooms']<12)]\n",
    "\n",
    "new_data.describe()\n",
    "\n",
    "X= new_data[new_data.columns[0:5]]\n",
    "y= new_data['house_value']\n",
    "\n",
    "from sklearn.model_selection import train_test_split\n",
    "X_train, X_test, y_train, y_test = train_test_split(X, y, random_state=42)\n",
    "\n",
    "from sklearn.preprocessing import MinMaxScaler\n",
    "scaler_minmax = MinMaxScaler()\n",
    "scaler_minmax.fit(X_train)\n",
    "X_scaled_minmax_train = scaler_minmax.transform(X_train)\n",
    "X_scaled_minmax_test = scaler_minmax.transform(X_test)\n",
    "\n",
    "from sklearn.linear_model import LinearRegression\n",
    "model = LinearRegression()\n",
    "model.fit(X_scaled_minmax_train, y_train)\n",
    "\n",
    "pred_train=model.predict(X_scaled_minmax_train)\n",
    "print(model.score(X_scaled_minmax_train, y_train))\n",
    "\n",
    "print(model.score(X_scaled_minmax_test,y_test))\n",
    "\n",
    "new_data.to_csv('house_price.csv', index=False)\n",
    "\n"
   ]
  }
 ],
 "metadata": {
  "interpreter": {
   "hash": "63fd5069d213b44bf678585dea6b12cceca9941eaf7f819626cde1f2670de90d"
  },
  "kernelspec": {
   "display_name": "Python 3.9.2 64-bit (system)",
   "language": "python",
   "name": "python3"
  },
  "language_info": {
   "codemirror_mode": {
    "name": "ipython",
    "version": 3
   },
   "file_extension": ".py",
   "mimetype": "text/x-python",
   "name": "python",
   "nbconvert_exporter": "python",
   "pygments_lexer": "ipython3",
   "version": "3.9.2"
  },
  "orig_nbformat": 4
 },
 "nbformat": 4,
 "nbformat_minor": 2
}

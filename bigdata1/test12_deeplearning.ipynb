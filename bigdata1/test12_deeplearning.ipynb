{
 "cells": [
  {
   "cell_type": "code",
   "execution_count": 3,
   "metadata": {},
   "outputs": [
    {
     "name": "stdout",
     "output_type": "stream",
     "text": [
      "0.9726442033123929\n"
     ]
    }
   ],
   "source": [
    "# data read\n",
    "from sklearn.preprocessing import MinMaxScaler\n",
    "from sklearn.model_selection import train_test_split\n",
    "import pandas as pd\n",
    "import numpy as np\n",
    "import warnings\n",
    "warnings.filterwarnings(\"ignore\")\n",
    "\n",
    "data = pd.read_csv('Data2/breast-cancer-wisconsin.csv', encoding='utf-8')\n",
    "\n",
    "X = data[data.columns[1:10]]\n",
    "y = data[['Class']]\n",
    "\n",
    "# data handling\n",
    "X_train, X_test, y_train, y_test = train_test_split(\n",
    "    X, y, random_state=42, stratify=y)\n",
    "\n",
    "scaler = MinMaxScaler()\n",
    "scaler.fit(X_train)\n",
    "X_train = scaler.transform(X_train)\n",
    "X_test = scaler.transform(X_test)\n",
    "\n",
    "from sklearn.neural_network import MLPClassifier \n",
    "from sklearn.neural_network import MLPRegressor \n",
    "\n",
    "model = MLPClassifier()\n",
    "model2 = MLPRegressor()\n",
    "\n",
    "model.fit(X_train, y_train)\n",
    "model.score(X_train,y_train)\n",
    "\n",
    "from sklearn.model_selection import RandomizedSearchCV\n",
    "from scipy.stats import randint\n",
    "\n",
    "param = {'activation' : ['tanh','relu'], 'solver' : ['sgd', 'adam'], 'hidden_layer_sizes' : randint(low=1, high=100)}\n",
    "search = RandomizedSearchCV(model, param, cv=5, n_iter=10)\n",
    "search.fit(X_train, y_train)\n",
    "print(search.best_score_)\n",
    "search.best_params_\n",
    "\n",
    "from sklearn.svm import SVC\n",
    "\n",
    "model = SVC()\n",
    "model.fit(X_train, y_train)\n",
    "model.score(X_train, y_train)\n",
    "model.score(X_test, y_test)\n",
    "result = model.predict(X_test)\n",
    "\n",
    "from sklearn.metrics import roc_auc_score\n",
    "\n",
    "roc = roc_auc_score(y_test,result)\n",
    "print(roc)"
   ]
  }
 ],
 "metadata": {
  "interpreter": {
   "hash": "63fd5069d213b44bf678585dea6b12cceca9941eaf7f819626cde1f2670de90d"
  },
  "kernelspec": {
   "display_name": "Python 3.9.2 64-bit (system)",
   "language": "python",
   "name": "python3"
  },
  "language_info": {
   "codemirror_mode": {
    "name": "ipython",
    "version": 3
   },
   "file_extension": ".py",
   "mimetype": "text/x-python",
   "name": "python",
   "nbconvert_exporter": "python",
   "pygments_lexer": "ipython3",
   "version": "3.9.2"
  },
  "orig_nbformat": 4
 },
 "nbformat": 4,
 "nbformat_minor": 2
}

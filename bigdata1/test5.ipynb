{
 "cells": [
  {
   "cell_type": "code",
   "execution_count": 42,
   "metadata": {},
   "outputs": [],
   "source": [
    "import pandas as pd\n",
    "import numpy as np\n",
    "\n",
    "data = pd.read_csv('data2/house_price.csv', encoding='utf-8')\n",
    "\n",
    "data.head()\n",
    "\n",
    "data_X = data[data.columns[0:5]]\n",
    "data_Y = data[[\"house_value\"]]\n",
    "\n",
    "from sklearn.model_selection import train_test_split\n",
    "\n",
    "X_train, X_test, Y_train, Y_test = train_test_split(data_X, data_Y, random_state=42)\n",
    "\n",
    "from sklearn.preprocessing import MinMaxScaler\n",
    "from sklearn.preprocessing import StandardScaler\n",
    "\n",
    "preprop_minmax = MinMaxScaler()\n",
    "preprop_minmax.fit(X_train)\n",
    "X_scaled_train = preprop_minmax.transform(X_train)\n",
    "X_scaled_test = preprop_minmax.transform(X_test)\n",
    "\n",
    "from sklearn.linear_model import LinearRegression\n",
    "\n",
    "model = LinearRegression()\n",
    "\n",
    "model.fit(X_scaled_train, Y_train)\n",
    "pred_train = model.predict(X_scaled_train)\n",
    "pred_test = model.predict(X_scaled_test)\n",
    "model.score(X_scaled_train, Y_train)\n",
    "\n",
    "from sklearn.metrics import mean_squared_error\n",
    "MSE = mean_squared_error(Y_train, pred_train)\n",
    "np.sqrt(MSE)\n",
    "\n",
    "Y_train[['prediction']] = pred_train\n",
    "Y_train\n",
    "\n",
    "Y_test[['prediction']] = pred_test\n",
    "\n",
    "Total_test = pd.concat([X_test, Y_test], axis=1)\n",
    "Total_test.to_csv('regression_test.csv')\n",
    "\n",
    "\n",
    "\n"
   ]
  },
  {
   "cell_type": "code",
   "execution_count": 124,
   "metadata": {},
   "outputs": [],
   "source": [
    "import numpy as np\n",
    "import pandas as pd\n",
    "\n",
    "data = pd.read_csv('data2/vote.csv', encoding='utf-8')\n",
    "\n",
    "data.head()\n",
    "\n",
    "X1 = data[['gender', 'region']]\n",
    "X2 = data[data.columns[2:10]]\n",
    "\n",
    "X1['gender'] = X1['gender'].replace([1,2], ['male', 'female'])\n",
    "X1['region'] = X1['region'].replace([1,2,3,4,5], ['Sudo', 'Chungcheung', 'Honam', 'Youngnam', 'Others'])\n",
    "\n",
    "X1_dum = pd.get_dummies(X1)\n",
    "\n",
    "new_data = pd.concat([X1_dum, X2], axis=1)\n",
    "new_data.head()\n",
    "\n",
    "new_data.to_csv('data.csv', index=False, encoding='utf-8')\n",
    "\n",
    "\n",
    "\n",
    "\n"
   ]
  },
  {
   "cell_type": "code",
   "execution_count": 139,
   "metadata": {},
   "outputs": [
    {
     "name": "stdout",
     "output_type": "stream",
     "text": [
      "[ 0.01640492  0.07382527 -0.02006936 -0.12084516 -0.64197474]\n"
     ]
    },
    {
     "data": {
      "text/plain": [
       "-0.020352325456997944"
      ]
     },
     "execution_count": 139,
     "metadata": {},
     "output_type": "execute_result"
    }
   ],
   "source": [
    "import warnings\n",
    "warnings.filterwarnings('ignore')\n",
    "\n",
    "import pandas as pd\n",
    "import numpy as np\n",
    "\n",
    "data = pd.read_csv('data.csv')\n",
    "\n",
    "X=data[data.columns[0:13]]\n",
    "y=data[[\"vote\"]]\n",
    "\n",
    "from sklearn.model_selection import train_test_split\n",
    "X_train,X_test,y_train,y_test =  train_test_split(X, y, random_state=42, stratify=y)\n",
    "\n",
    "from sklearn.linear_model import LinearRegression\n",
    "from sklearn.model_selection import cross_val_score\n",
    "from sklearn.model_selection import KFold\n",
    "\n",
    "model = LinearRegression()\n",
    "kfold = KFold(n_splits=5, shuffle=True, random_state=42)\n",
    "scores = cross_val_score(model, X_train, y_train, cv=kfold)\n",
    "\n",
    "X_train, X_val,y_train, y_val= train_test_split(X_train, y_train, random_state=42)\n",
    "\n",
    "\n",
    "model = LinearRegression()\n",
    "scores = cross_val_score(model, X_train, y_train, cv = 5)\n",
    "print(scores)\n",
    "model.fit(X_train, y_train)\n",
    "model.score(X_val, y_val)"
   ]
  }
 ],
 "metadata": {
  "interpreter": {
   "hash": "63fd5069d213b44bf678585dea6b12cceca9941eaf7f819626cde1f2670de90d"
  },
  "kernelspec": {
   "display_name": "Python 3.9.2 64-bit (system)",
   "language": "python",
   "name": "python3"
  },
  "language_info": {
   "codemirror_mode": {
    "name": "ipython",
    "version": 3
   },
   "file_extension": ".py",
   "mimetype": "text/x-python",
   "name": "python",
   "nbconvert_exporter": "python",
   "pygments_lexer": "ipython3",
   "version": "3.9.2"
  },
  "orig_nbformat": 4
 },
 "nbformat": 4,
 "nbformat_minor": 2
}

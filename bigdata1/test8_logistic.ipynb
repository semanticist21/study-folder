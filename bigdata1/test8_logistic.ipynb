{
 "cells": [
  {
   "cell_type": "code",
   "execution_count": 32,
   "metadata": {},
   "outputs": [
    {
     "name": "stdout",
     "output_type": "stream",
     "text": [
      "{'C': 2}\n",
      "0.9706453455168476\n"
     ]
    }
   ],
   "source": [
    "import pandas as pd\n",
    "import numpy as np\n",
    "import warnings \n",
    "warnings.filterwarnings(\"ignore\")\n",
    "\n",
    "data =pd.read_csv('Data2/breast-cancer-wisconsin.csv', encoding='utf-8')\n",
    "\n",
    "X = data[data.columns[1:10]]\n",
    "y = data[['Class']]\n",
    "\n",
    "from sklearn.model_selection import train_test_split\n",
    "X_train, X_test, y_train, y_test = train_test_split(X, y, random_state=42, stratify=y)\n",
    "\n",
    "from sklearn.model_selection import RandomizedSearchCV\n",
    "from scipy.stats import randint\n",
    "from sklearn.linear_model import LogisticRegression\n",
    "param = {'C': randint(low=0.001, high=100)}\n",
    "model = LogisticRegression()\n",
    "random = RandomizedSearchCV(model, param, cv=5, return_train_score =True, n_iter=1000)\n",
    "\n",
    "random.fit(X_train,y_train)\n",
    "\n",
    "print(random.best_params_)\n",
    "print(random.best_score_)\n",
    "\n",
    "model = LogisticRegression(C=13)\n",
    "model.fit(X_train, y_train)\n",
    "model.score(X_train, y_train)\n",
    "model.score(X_test, y_test)\n",
    "\n",
    "pred_train = model.predict(X_train)\n",
    "pred_test = model.predict(X_test)\n",
    "\n",
    "y_train['pred_res'] = pred_train\n",
    "y_test['pred_res'] = pred_test\n",
    "\n",
    "new_train = pd.concat([X_train, y_train], axis =1)\n",
    "new_test = pd.concat([X_test, y_test], axis =1)\n",
    "\n",
    "\n",
    "\n",
    "\n",
    "\n"
   ]
  }
 ],
 "metadata": {
  "interpreter": {
   "hash": "63fd5069d213b44bf678585dea6b12cceca9941eaf7f819626cde1f2670de90d"
  },
  "kernelspec": {
   "display_name": "Python 3.9.2 64-bit (system)",
   "language": "python",
   "name": "python3"
  },
  "language_info": {
   "codemirror_mode": {
    "name": "ipython",
    "version": 3
   },
   "file_extension": ".py",
   "mimetype": "text/x-python",
   "name": "python",
   "nbconvert_exporter": "python",
   "pygments_lexer": "ipython3",
   "version": "3.9.2"
  },
  "orig_nbformat": 4
 },
 "nbformat": 4,
 "nbformat_minor": 2
}

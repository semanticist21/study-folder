{
 "cells": [
  {
   "cell_type": "code",
   "execution_count": 37,
   "metadata": {},
   "outputs": [],
   "source": [
    "import warnings\n",
    "warnings.filterwarnings(\"ignore\")\n",
    "import pandas as pd\n",
    "import numpy as np\n",
    "\n",
    "data = pd.read_csv('data.csv', encoding='utf-8')\n",
    "\n",
    "from sklearn.preprocessing import MinMaxScaler\n",
    "from sklearn.model_selection import train_test_split\n",
    "\n",
    "X=data.loc[:, 'gender_female':'score_intention']\n",
    "y= data[['vote']]\n",
    "\n",
    "X_train, X_test, y_train, y_test = train_test_split(X,y,train_size=0.8,stratify=y,random_state=42)\n",
    "\n",
    "minmax = MinMaxScaler()\n",
    "minmax.fit(X_train)\n",
    "X_train = minmax.transform(X_train)\n",
    "X_test = minmax.transform(X_test)\n",
    "\n",
    "# linear_model => LinearRegression\n",
    "# metrics => confusion_matrix \n",
    "# model_selection => train_test_split\n",
    "# KFold(model selection), cross_val_score\n",
    "from sklearn.model_selection import GridSearchCV\n",
    "from sklearn.linear_model import LinearRegression\n",
    "from sklearn.linear_model import LogisticRegression\n",
    "\n",
    "param_grid = {'C' : [0.001, 0.01, 0.1, 1, 10, 100]}\n",
    "# model = LinearRegression()\n",
    "model = LogisticRegression()\n",
    "\n",
    "grid_search = GridSearchCV(model, param_grid, cv=5, return_train_score=True)\n",
    "\n",
    "grid_search.fit(X_train, y_train)\n",
    "\n",
    "from sklearn.model_selection import RandomizedSearchCV\n",
    "from scipy.stats import randint\n",
    "\n",
    "param_distribs = {'C': randint(low=0.001, high=100)}\n",
    "random_search = RandomizedSearchCV(model, param_distribs, cv=5, return_train_score=True)\n",
    "random_search.fit(X_train, y_train)\n",
    "\n",
    "best_c = random_search.best_params_.get('C')\n",
    "final_model = LogisticRegression(C=best_c)\n",
    "final_model.fit(X_train, y_train)\n",
    "\n",
    "model = LogisticRegression()\n",
    "model.fit(X_train,y_train)\n",
    "model.score(X_train,y_train)\n",
    "pred = model.predict(X_train)\n",
    "\n",
    "\n",
    "\n",
    "\n",
    "\n",
    "\n"
   ]
  },
  {
   "cell_type": "code",
   "execution_count": 75,
   "metadata": {},
   "outputs": [
    {
     "name": "stdout",
     "output_type": "stream",
     "text": [
      "{'C': 0.1}\n",
      "0.4545454545454546\n",
      "{'C': 4}\n",
      "0.5443548387096774\n"
     ]
    },
    {
     "data": {
      "text/plain": [
       "0.6392405063291139"
      ]
     },
     "execution_count": 75,
     "metadata": {},
     "output_type": "execute_result"
    }
   ],
   "source": [
    "import pandas as pd\n",
    "import numpy as np\n",
    "from sklearn.linear_model import LinearRegression\n",
    "import warnings\n",
    "warnings.filterwarnings('ignore')\n",
    "\n",
    "pd.read_csv('data.csv', encoding='utf-8')\n",
    "from sklearn.model_selection import train_test_split\n",
    "\n",
    "X = data[data.columns[1:13]]\n",
    "y = data[['parties']]\n",
    "\n",
    "X_train, X_test, y_train, y_test = train_test_split(X,y, random_state=42, stratify=y)\n",
    "\n",
    "model = LogisticRegression(C=3)\n",
    "model.fit(X_train, y_train)\n",
    "\n",
    "pred_train = model.predict(X_train)\n",
    "model.score(X_test, y_test)\n",
    "\n",
    "from sklearn.metrics import confusion_matrix\n",
    "\n",
    "\n",
    "from sklearn.model_selection import GridSearchCV\n",
    "\n",
    "params = {'C':[0.01, 0.1, 1, 10, 100]}\n",
    "grid = GridSearchCV(model, params, cv=5, return_train_score=True)\n",
    "grid.fit(X_test, y_test)\n",
    "print(grid.best_params_)\n",
    "print(grid.best_score_)\n",
    "\n",
    "from sklearn.model_selection import RandomizedSearchCV \n",
    "from scipy.stats import randint \n",
    "\n",
    "model = LogisticRegression()\n",
    "params = {'C' : randint(low=0.001, high=100,)}\n",
    "random = RandomizedSearchCV(model, param_distributions=params, cv=5, return_train_score = True, n_iter=300)\n",
    "random.fit(X_train, y_train)\n",
    "print(random.best_params_)\n",
    "print(random.best_score_)\n",
    "\n",
    "model = LogisticRegression(C=11)\n",
    "model.fit(X_train, y_train)\n",
    "model.predict(X_train)\n",
    "model.score(X_train, y_train)\n",
    "\n",
    "\n",
    "\n",
    "\n",
    "\n"
   ]
  }
 ],
 "metadata": {
  "interpreter": {
   "hash": "63fd5069d213b44bf678585dea6b12cceca9941eaf7f819626cde1f2670de90d"
  },
  "kernelspec": {
   "display_name": "Python 3.9.2 64-bit (system)",
   "language": "python",
   "name": "python3"
  },
  "language_info": {
   "codemirror_mode": {
    "name": "ipython",
    "version": 3
   },
   "file_extension": ".py",
   "mimetype": "text/x-python",
   "name": "python",
   "nbconvert_exporter": "python",
   "pygments_lexer": "ipython3",
   "version": "3.9.2"
  },
  "orig_nbformat": 4
 },
 "nbformat": 4,
 "nbformat_minor": 2
}

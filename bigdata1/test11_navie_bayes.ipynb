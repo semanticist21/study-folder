{
 "cells": [
  {
   "cell_type": "code",
   "execution_count": 8,
   "metadata": {},
   "outputs": [
    {
     "name": "stdout",
     "output_type": "stream",
     "text": [
      "0.966796875\n"
     ]
    },
    {
     "data": {
      "text/plain": [
       "{'var_smoothing': 0}"
      ]
     },
     "execution_count": 8,
     "metadata": {},
     "output_type": "execute_result"
    }
   ],
   "source": [
    "# data read\n",
    "from scipy.stats import randint\n",
    "from sklearn.model_selection import RandomizedSearchCV\n",
    "from sklearn.metrics import confusion_matrix\n",
    "from sklearn.naive_bayes import GaussianNB\n",
    "from sklearn.preprocessing import MinMaxScaler\n",
    "from sklearn.model_selection import train_test_split\n",
    "import pandas as pd\n",
    "import numpy as np\n",
    "import warnings\n",
    "warnings.filterwarnings(\"ignore\")\n",
    "\n",
    "data = pd.read_csv('Data2/breast-cancer-wisconsin.csv', encoding='utf-8')\n",
    "\n",
    "X = data[data.columns[1:10]]\n",
    "y = data[['Class']]\n",
    "\n",
    "# data handling\n",
    "X_train, X_test, y_train, y_test = train_test_split(\n",
    "    X, y, random_state=42, stratify=y)\n",
    "\n",
    "scaler = MinMaxScaler()\n",
    "scaler.fit(X_train)\n",
    "X_train = scaler.transform(X_train)\n",
    "X_test = scaler.transform(X_test)\n",
    "\n",
    "\n",
    "model = GaussianNB(var_smoothing=0)\n",
    "model.fit(X_train, y_train)\n",
    "pred = model.predict(X_train)\n",
    "print(model.score(X_train, y_train))\n",
    "\n",
    "data\n",
    "confusion_matrix(y_train, pred)\n",
    "\n",
    "param = {'var_smoothing': randint(low=0, high=20)}\n",
    "search = RandomizedSearchCV(estimator = model, param_distributions = param, cv=5, return_train_score=True, n_iter=30)\n",
    "search.fit(X_train, y_train)\n",
    "\n",
    "search.best_params_"
   ]
  },
  {
   "cell_type": "code",
   "execution_count": 12,
   "metadata": {},
   "outputs": [
    {
     "data": {
      "text/plain": [
       "['ABCMeta',\n",
       " 'BaseEstimator',\n",
       " 'BernoulliNB',\n",
       " 'CategoricalNB',\n",
       " 'ClassifierMixin',\n",
       " 'ComplementNB',\n",
       " 'GaussianNB',\n",
       " 'LabelBinarizer',\n",
       " 'MultinomialNB',\n",
       " '_ALPHA_MIN',\n",
       " '_BaseDiscreteNB',\n",
       " '_BaseNB',\n",
       " '__all__',\n",
       " '__builtins__',\n",
       " '__cached__',\n",
       " '__doc__',\n",
       " '__file__',\n",
       " '__loader__',\n",
       " '__name__',\n",
       " '__package__',\n",
       " '__spec__',\n",
       " '_check_partial_fit_first_call',\n",
       " '_check_sample_weight',\n",
       " 'abstractmethod',\n",
       " 'binarize',\n",
       " 'check_is_fitted',\n",
       " 'check_non_negative',\n",
       " 'deprecated',\n",
       " 'label_binarize',\n",
       " 'logsumexp',\n",
       " 'np',\n",
       " 'safe_sparse_dot',\n",
       " 'warnings']"
      ]
     },
     "execution_count": 12,
     "metadata": {},
     "output_type": "execute_result"
    }
   ],
   "source": [
    "import pandas as pd\n",
    "import numpy as np\n",
    "import warnings\n",
    "warnings.filterwarnings(\"ignore\")\n",
    "\n",
    "data = pd.read_csv('Data2/house_price.csv', encoding='utf-8')\n",
    "\n",
    "X = data[data.columns[0:5]]\n",
    "y = data[[\"house_value\"]]\n",
    "\n",
    "X_train, X_test, y_train, y_test = train_test_split(X, y, random_state=42)\n",
    "\n",
    "from sklearn.preprocessing import MinMaxScaler\n",
    "scaler = MinMaxScaler()\n",
    "scaler.fit(X_train)\n",
    "X_train = scaler.transform(X_train)\n",
    "X_test = scaler.transform(X_test)\n",
    "\n",
    "from sklearn.linear_model import BayesianRidge\n",
    "\n",
    "model = BayesianRidge()\n",
    "\n",
    "\n",
    "\n",
    "\n"
   ]
  }
 ],
 "metadata": {
  "interpreter": {
   "hash": "63fd5069d213b44bf678585dea6b12cceca9941eaf7f819626cde1f2670de90d"
  },
  "kernelspec": {
   "display_name": "Python 3.9.2 64-bit (system)",
   "language": "python",
   "name": "python3"
  },
  "language_info": {
   "codemirror_mode": {
    "name": "ipython",
    "version": 3
   },
   "file_extension": ".py",
   "mimetype": "text/x-python",
   "name": "python",
   "nbconvert_exporter": "python",
   "pygments_lexer": "ipython3",
   "version": "3.9.2"
  },
  "orig_nbformat": 4
 },
 "nbformat": 4,
 "nbformat_minor": 2
}
